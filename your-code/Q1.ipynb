{
 "cells": [
  {
   "cell_type": "markdown",
   "metadata": {},
   "source": [
    "In the cell below, create a Python function that wraps your previous solution for the Bag of Words lab.\n",
    "\n",
    "Requirements:\n",
    "\n",
    "1. Your function should accept the following parameters:\n",
    "    * `docs` [REQUIRED] - array of document paths.\n",
    "    * `stop_words` [OPTIONAL] - array of stop words. The default value is an empty array.\n",
    "\n",
    "1. Your function should return a Python object that contains the following:\n",
    "    * `bag_of_words` - array of strings of normalized unique words in the corpus.\n",
    "    * `term_freq` - array of the term-frequency vectors."
   ]
  },
  {
   "cell_type": "code",
   "execution_count": 1,
   "metadata": {},
   "outputs": [],
   "source": [
    "# Import required libraries\n",
    "import re \n",
    "\n",
    "'''\n",
    "L.S. Well done! the function runs very smooth. One minor improvement: you now use 3 doc files. Next time, try to\n",
    "generalise it so that the function accepts an n number of documents. \n",
    "'''\n",
    "\n",
    "# Define function\n",
    "def get_bow_from_docs(docs, stop_words = []): \n",
    "\n",
    "    # In the function, first define the variables you will use such as `corpus`, `bag_of_words`, and `term_freq`.\n",
    "    \n",
    "    corpus = []\n",
    "    corpus_new = [] \n",
    "    word_bag = []\n",
    "    bag_of_words = []\n",
    "    term_freq = [] \n",
    "    \n",
    "    \"\"\"\n",
    "    Loop `docs` and read the content of each doc into a string in `corpus`.\n",
    "    Remember to convert the doc content to lowercases and remove punctuation.\n",
    "    \"\"\"\n",
    "    \n",
    "    for f in docs: # read and append to corpus \n",
    "        file = open(f, 'r')\n",
    "        corpus.append(file.read())\n",
    "\n",
    "    for c in corpus: # making corpus lowercase and remove punctuation \n",
    "        x = c.lower()\n",
    "        y = re.findall('[a-z]+', x)\n",
    "        corpus_new.append(y)\n",
    "    \n",
    "    \"\"\"\n",
    "    Loop `corpus`. Append the terms in each doc into the `bag_of_words` array. The terms in `bag_of_words` \n",
    "    should be unique which means before adding each term you need to check if it's already added to the array.\n",
    "    In addition, check if each term is in the `stop_words` array. Only append the term to `bag_of_words`\n",
    "    if it is not a stop word.\n",
    "    \"\"\"\n",
    "    \n",
    "    for i in corpus: # create a bag of words \n",
    "        x = i.lower()\n",
    "        y = re.findall('[a-z]+', x)\n",
    "        word_bag = word_bag + y \n",
    "\n",
    "    for b in word_bag: # remove dubble words and check if not in stop_word \n",
    "        if b not in bag_of_words and b not in stop_words:\n",
    "            bag_of_words.append(b) \n",
    "    \n",
    "    \"\"\"\n",
    "    Loop `corpus` again. For each doc string, count the number of occurrences of each term in `bag_of_words`. \n",
    "    Create an array for each doc's term frequency and append it to `term_freq`.\n",
    "    \"\"\"\n",
    "\n",
    "    # len(docs) = aantal docs die hij moet lezen \n",
    "    \n",
    "    doc1 = [] \n",
    "    doc2 = [] \n",
    "    doc3 = [] \n",
    "    term_freq = [doc1, doc2, doc3] \n",
    "    count = 0 \n",
    "\n",
    "    for word in bag_of_words: # first pick out bag_of_words\n",
    "        for corp in corpus_new: # than compare to docs \n",
    "\n",
    "            if count == 0:\n",
    "                count += 1\n",
    "                if word in corp:\n",
    "                    doc1.append(1)\n",
    "                else:\n",
    "                    doc1.append(0)\n",
    "\n",
    "            elif count == 1:\n",
    "                count += 1\n",
    "                if word in corp:\n",
    "                    doc2.append(1)\n",
    "                else:\n",
    "                    doc2.append(0)        \n",
    "\n",
    "            else:\n",
    "                count == 2\n",
    "                count = 0 \n",
    "                if word in corp:\n",
    "                    doc3.append(1)\n",
    "                else:\n",
    "                    doc3.append(0)            \n",
    "\n",
    "    \n",
    "    # Now return your output as an object\n",
    "    return {\n",
    "        \"bag_of_words\": bag_of_words,\n",
    "        \"term_freq\": term_freq\n",
    "    } \n"
   ]
  },
  {
   "cell_type": "markdown",
   "metadata": {},
   "source": [
    "Test your function without stop words. You should see the output like below:\n",
    "\n",
    "```{'bag_of_words': ['ironhack', 'is', 'cool', 'i', 'love', 'am', 'a', 'student', 'at'], 'term_freq': [[1, 1, 1, 0, 0, 0, 0, 0, 0], [1, 0, 0, 1, 1, 0, 0, 0, 0], [1, 0, 0, 1, 0, 1, 1, 1, 1]]}```"
   ]
  },
  {
   "cell_type": "code",
   "execution_count": 2,
   "metadata": {},
   "outputs": [
    {
     "name": "stdout",
     "output_type": "stream",
     "text": [
      "{'bag_of_words': ['ironhack', 'is', 'cool', 'i', 'am', 'a', 'student', 'at', 'love'], 'term_freq': [[1, 1, 1, 0, 0, 0, 0, 0, 0], [1, 0, 0, 1, 1, 1, 1, 1, 0], [1, 0, 0, 1, 0, 0, 0, 0, 1]]}\n"
     ]
    }
   ],
   "source": [
    "# Define doc paths array\n",
    "import os\n",
    "list_docs = []\n",
    "\n",
    "'''\n",
    "L.S. Well done! However, the output does not seem to correspond with output from above. Why not? \n",
    "'''\n",
    "\n",
    "docs = [f for f in os.listdir('../your-code') if f.endswith('.txt')] \n",
    "\n",
    "for doc in docs: \n",
    "    d = os.path.join(os.getcwd(), doc)\n",
    "    list_docs.append(d)\n",
    "    \n",
    "# Obtain BoW from your function\n",
    "bow = get_bow_from_docs(list_docs) \n",
    "\n",
    "# Print BoW\n",
    "print(bow) \n"
   ]
  },
  {
   "cell_type": "markdown",
   "metadata": {},
   "source": [
    "If your attempt above is successful, nice work done!\n",
    "\n",
    "Now test your function again with the stop words. In the previous lab we defined the stop words in a large array. In this lab, we'll import the stop words from Scikit-Learn."
   ]
  },
  {
   "cell_type": "code",
   "execution_count": 3,
   "metadata": {},
   "outputs": [
    {
     "name": "stdout",
     "output_type": "stream",
     "text": [
      "frozenset({'nothing', 'against', 'three', 'should', 'nowhere', 'un', 'what', 'side', 'someone', 'hereby', 'she', 'take', 'many', 'ten', 'have', 'name', 'very', 'due', 'move', 'always', 'any', 'the', 'none', 'somewhere', 'among', 'a', 'once', 'whence', 'yourselves', 'into', 'its', 'how', 'this', 'latter', 'be', 'see', 'him', 'my', 'whereupon', 'without', 'almost', 'too', 'another', 'hasnt', 'whatever', 'they', 'with', 'thus', 'ie', 'so', 'are', 'would', 'describe', 'further', 'after', 'own', 'seems', 'now', 'under', 're', 'also', 'through', 'least', 'beside', 'more', 'nine', 'latterly', 'your', 'toward', 'besides', 'everyone', 'could', 'until', 'whoever', 'sincere', 'neither', 'forty', 'onto', 'becomes', 'system', 'give', 'however', 'fill', 'eleven', 'while', 'throughout', 'or', 'yourself', 'back', 'never', 'therein', 'we', 'were', 'might', 'yet', 'noone', 'full', 'has', 'wherein', 'twenty', 'herself', 'mostly', 'fire', 'here', 'keep', 'out', 'became', 'same', 'some', 'an', 'both', 'therefore', 'get', 'afterwards', 'her', 'next', 'thereafter', 'then', 'detail', 'five', 'towards', 'de', 'bottom', 'down', 'no', 'as', 'if', 'amongst', 'amoungst', 'sometimes', 'moreover', 'along', 'last', 'who', 'all', 'eight', 'for', 'fifty', 'con', 'ourselves', 'third', 'though', 'alone', 'cry', 'over', 'sixty', 'had', 'hereafter', 'somehow', 'their', 'via', 'well', 'wherever', 'yours', 'per', 'his', 'is', 'six', 'thereupon', 'hence', 'most', 'every', 'formerly', 'few', 'found', 'me', 'up', 'such', 'why', 'than', 'either', 'hereupon', 'those', 'myself', 'eg', 'in', 'nor', 'whereby', 'thence', 'below', 'anything', 'part', 'can', 'couldnt', 'himself', 'i', 'everywhere', 'meanwhile', 'two', 'amount', 'anyhow', 'whole', 'whose', 'seemed', 'will', 'other', 'together', 'and', 'others', 'seem', 'must', 'one', 'becoming', 'do', 'please', 'within', 'since', 'go', 'beforehand', 'first', 'whether', 'behind', 'but', 'itself', 'only', 'top', 'even', 'may', 'already', 'around', 'from', 'off', 'although', 'whereafter', 'because', 'which', 'about', 'enough', 'cannot', 'much', 'at', 'it', 'our', 'between', 'there', 'namely', 'elsewhere', 'seeming', 'them', 'that', 'thru', 'four', 'us', 'done', 'except', 'each', 'not', 'made', 'again', 'hers', 'on', 'find', 'ever', 'anyone', 'being', 'put', 'otherwise', 'etc', 'still', 'to', 'something', 'become', 'before', 'empty', 'ltd', 'by', 'ours', 'where', 'nevertheless', 'herein', 'co', 'hundred', 'during', 'often', 'mill', 'perhaps', 'thick', 'of', 'across', 'anywhere', 'been', 'beyond', 'he', 'less', 'was', 'thin', 'inc', 'serious', 'several', 'thereby', 'upon', 'fifteen', 'am', 'former', 'show', 'whereas', 'bill', 'interest', 'whenever', 'themselves', 'sometime', 'above', 'else', 'mine', 'twelve', 'nobody', 'these', 'whither', 'call', 'front', 'indeed', 'whom', 'cant', 'anyway', 'rather', 'everything', 'you', 'when'})\n"
     ]
    }
   ],
   "source": [
    "from sklearn.feature_extraction import stop_words\n",
    "print(stop_words.ENGLISH_STOP_WORDS)"
   ]
  },
  {
   "cell_type": "markdown",
   "metadata": {},
   "source": [
    "You should have seen a large list of words that looks like:\n",
    "\n",
    "```frozenset({'across', 'mine', 'cannot', ...})```\n",
    "\n",
    "`frozenset` is a type of Python object that is immutable. In this lab you can use it just like an array without conversion."
   ]
  },
  {
   "cell_type": "markdown",
   "metadata": {},
   "source": [
    "Next, test your function with supplying `stop_words.ENGLISH_STOP_WORDS` as the second parameter."
   ]
  },
  {
   "cell_type": "code",
   "execution_count": 90,
   "metadata": {},
   "outputs": [
    {
     "name": "stdout",
     "output_type": "stream",
     "text": [
      "{'bag_of_words': ['ironhack', 'cool', 'student', 'love'], 'term_freq': [[1, 1, 0, 0], [1, 0, 1, 0], [1, 0, 0, 1]]}\n"
     ]
    }
   ],
   "source": [
    "'''\n",
    "L.S. Very good!\n",
    "'''\n",
    "\n",
    "bow = get_bow_from_docs(docs, stop_words.ENGLISH_STOP_WORDS)\n",
    "\n",
    "print(bow)"
   ]
  },
  {
   "cell_type": "markdown",
   "metadata": {},
   "source": [
    "You should have seen:\n",
    "\n",
    "```{'bag_of_words': ['ironhack', 'cool', 'love', 'student'], 'term_freq': [[1, 1, 0, 0], [1, 0, 1, 0], [1, 0, 0, 1]]}```"
   ]
  },
  {
   "cell_type": "code",
   "execution_count": null,
   "metadata": {},
   "outputs": [],
   "source": []
  }
 ],
 "metadata": {
  "kernelspec": {
   "display_name": "Python 3",
   "language": "python",
   "name": "python3"
  },
  "language_info": {
   "codemirror_mode": {
    "name": "ipython",
    "version": 3
   },
   "file_extension": ".py",
   "mimetype": "text/x-python",
   "name": "python",
   "nbconvert_exporter": "python",
   "pygments_lexer": "ipython3",
   "version": "3.6.4"
  }
 },
 "nbformat": 4,
 "nbformat_minor": 2
}
